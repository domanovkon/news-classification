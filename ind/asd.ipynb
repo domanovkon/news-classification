{
 "cells": [
  {
   "cell_type": "code",
   "execution_count": 150,
   "metadata": {
    "pycharm": {
     "name": "#%%\n"
    }
   },
   "outputs": [
    {
     "data": {
      "text/html": [
       "<div>\n",
       "<style scoped>\n",
       "    .dataframe tbody tr th:only-of-type {\n",
       "        vertical-align: middle;\n",
       "    }\n",
       "\n",
       "    .dataframe tbody tr th {\n",
       "        vertical-align: top;\n",
       "    }\n",
       "\n",
       "    .dataframe thead th {\n",
       "        text-align: right;\n",
       "    }\n",
       "</style>\n",
       "<table border=\"1\" class=\"dataframe\">\n",
       "  <thead>\n",
       "    <tr style=\"text-align: right;\">\n",
       "      <th></th>\n",
       "      <th>STORY</th>\n",
       "      <th>SECTION</th>\n",
       "    </tr>\n",
       "  </thead>\n",
       "  <tbody>\n",
       "    <tr>\n",
       "      <th>0</th>\n",
       "      <td>But the most painful was the huge reversal in ...</td>\n",
       "      <td>3</td>\n",
       "    </tr>\n",
       "    <tr>\n",
       "      <th>1</th>\n",
       "      <td>How formidable is the opposition alliance amon...</td>\n",
       "      <td>0</td>\n",
       "    </tr>\n",
       "    <tr>\n",
       "      <th>2</th>\n",
       "      <td>Most Asian currencies were trading lower today...</td>\n",
       "      <td>3</td>\n",
       "    </tr>\n",
       "    <tr>\n",
       "      <th>3</th>\n",
       "      <td>If you want to answer any question, click on ‘...</td>\n",
       "      <td>1</td>\n",
       "    </tr>\n",
       "    <tr>\n",
       "      <th>4</th>\n",
       "      <td>In global markets, gold prices edged up today ...</td>\n",
       "      <td>3</td>\n",
       "    </tr>\n",
       "  </tbody>\n",
       "</table>\n",
       "</div>"
      ],
      "text/plain": [
       "                                               STORY  SECTION\n",
       "0  But the most painful was the huge reversal in ...        3\n",
       "1  How formidable is the opposition alliance amon...        0\n",
       "2  Most Asian currencies were trading lower today...        3\n",
       "3  If you want to answer any question, click on ‘...        1\n",
       "4  In global markets, gold prices edged up today ...        3"
      ]
     },
     "execution_count": 150,
     "metadata": {},
     "output_type": "execute_result"
    }
   ],
   "source": [
    "import seaborn as sns\n",
    "import pandas as pd\n",
    "\n",
    "train = pd.read_csv('Data_Train.csv',encoding='cp1252', nrows=1000)\n",
    "\n",
    "train.head()\n"
   ]
  },
  {
   "cell_type": "code",
   "execution_count": 151,
   "metadata": {},
   "outputs": [
    {
     "data": {
      "text/html": [
       "<div>\n",
       "<style scoped>\n",
       "    .dataframe tbody tr th:only-of-type {\n",
       "        vertical-align: middle;\n",
       "    }\n",
       "\n",
       "    .dataframe tbody tr th {\n",
       "        vertical-align: top;\n",
       "    }\n",
       "\n",
       "    .dataframe thead th {\n",
       "        text-align: right;\n",
       "    }\n",
       "</style>\n",
       "<table border=\"1\" class=\"dataframe\">\n",
       "  <thead>\n",
       "    <tr style=\"text-align: right;\">\n",
       "      <th></th>\n",
       "      <th>STORY</th>\n",
       "      <th>SECTION</th>\n",
       "      <th>Category</th>\n",
       "    </tr>\n",
       "  </thead>\n",
       "  <tbody>\n",
       "    <tr>\n",
       "      <th>0</th>\n",
       "      <td>But the most painful was the huge reversal in ...</td>\n",
       "      <td>3</td>\n",
       "      <td>Business</td>\n",
       "    </tr>\n",
       "    <tr>\n",
       "      <th>1</th>\n",
       "      <td>How formidable is the opposition alliance amon...</td>\n",
       "      <td>0</td>\n",
       "      <td>Politics</td>\n",
       "    </tr>\n",
       "    <tr>\n",
       "      <th>2</th>\n",
       "      <td>Most Asian currencies were trading lower today...</td>\n",
       "      <td>3</td>\n",
       "      <td>Business</td>\n",
       "    </tr>\n",
       "    <tr>\n",
       "      <th>3</th>\n",
       "      <td>If you want to answer any question, click on ‘...</td>\n",
       "      <td>1</td>\n",
       "      <td>Technology</td>\n",
       "    </tr>\n",
       "    <tr>\n",
       "      <th>4</th>\n",
       "      <td>In global markets, gold prices edged up today ...</td>\n",
       "      <td>3</td>\n",
       "      <td>Business</td>\n",
       "    </tr>\n",
       "  </tbody>\n",
       "</table>\n",
       "</div>"
      ],
      "text/plain": [
       "                                               STORY  SECTION    Category\n",
       "0  But the most painful was the huge reversal in ...        3    Business\n",
       "1  How formidable is the opposition alliance amon...        0    Politics\n",
       "2  Most Asian currencies were trading lower today...        3    Business\n",
       "3  If you want to answer any question, click on ‘...        1  Technology\n",
       "4  In global markets, gold prices edged up today ...        3    Business"
      ]
     },
     "execution_count": 151,
     "metadata": {},
     "output_type": "execute_result"
    }
   ],
   "source": [
    "train['Category'] = train['SECTION']\n",
    "rem = {\"Category\": {0: \"Politics\", 1: \"Technology\", 2:\"Entertainment\", 3:\"Business\"}}\n",
    "train = train.replace(rem)\n",
    "train.head()"
   ]
  },
  {
   "cell_type": "code",
   "execution_count": 152,
   "metadata": {
    "pycharm": {
     "name": "#%%\n"
    }
   },
   "outputs": [
    {
     "data": {
      "text/plain": [
       "Text(0, 0.5, 'Количество')"
      ]
     },
     "execution_count": 152,
     "metadata": {},
     "output_type": "execute_result"
    },
    {
     "data": {
      "image/png": "[encoded data removed]",
      "text/plain": [
       "<Figure size 432x288 with 1 Axes>"
      ]
     },
     "metadata": {
      "needs_background": "light"
     },
     "output_type": "display_data"
    }
   ],
   "source": [
    "from matplotlib import pyplot as plt\n",
    "\n",
    "count = train.Category.value_counts()\n",
    "sns.barplot(x=count.index, y=count)\n",
    "plt.xlabel('Категория')\n",
    "plt.ylabel('Количество')"
   ]
  },
  {
   "cell_type": "code",
   "execution_count": 153,
   "metadata": {
    "pycharm": {
     "name": "#%%\n"
    }
   },
   "outputs": [
    {
     "data": {
      "text/html": [
       "<div>\n",
       "<style scoped>\n",
       "    .dataframe tbody tr th:only-of-type {\n",
       "        vertical-align: middle;\n",
       "    }\n",
       "\n",
       "    .dataframe tbody tr th {\n",
       "        vertical-align: top;\n",
       "    }\n",
       "\n",
       "    .dataframe thead th {\n",
       "        text-align: right;\n",
       "    }\n",
       "</style>\n",
       "<table border=\"1\" class=\"dataframe\">\n",
       "  <thead>\n",
       "    <tr style=\"text-align: right;\">\n",
       "      <th></th>\n",
       "      <th>STORY</th>\n",
       "      <th>SECTION</th>\n",
       "      <th>Category</th>\n",
       "      <th>Text_cleaning</th>\n",
       "    </tr>\n",
       "  </thead>\n",
       "  <tbody>\n",
       "    <tr>\n",
       "      <th>0</th>\n",
       "      <td>But the most painful was the huge reversal in ...</td>\n",
       "      <td>3</td>\n",
       "      <td>Business</td>\n",
       "      <td>painful huge reversal fee income unheard among...</td>\n",
       "    </tr>\n",
       "    <tr>\n",
       "      <th>1</th>\n",
       "      <td>How formidable is the opposition alliance amon...</td>\n",
       "      <td>0</td>\n",
       "      <td>Politics</td>\n",
       "      <td>formidable opposition alliance among congress ...</td>\n",
       "    </tr>\n",
       "    <tr>\n",
       "      <th>2</th>\n",
       "      <td>Most Asian currencies were trading lower today...</td>\n",
       "      <td>3</td>\n",
       "      <td>Business</td>\n",
       "      <td>asian currencies trading lower today south kor...</td>\n",
       "    </tr>\n",
       "    <tr>\n",
       "      <th>3</th>\n",
       "      <td>If you want to answer any question, click on ‘...</td>\n",
       "      <td>1</td>\n",
       "      <td>Technology</td>\n",
       "      <td>want answer question click answer clicking ans...</td>\n",
       "    </tr>\n",
       "    <tr>\n",
       "      <th>4</th>\n",
       "      <td>In global markets, gold prices edged up today ...</td>\n",
       "      <td>3</td>\n",
       "      <td>Business</td>\n",
       "      <td>global markets gold prices edged today disappo...</td>\n",
       "    </tr>\n",
       "  </tbody>\n",
       "</table>\n",
       "</div>"
      ],
      "text/plain": [
       "                                               STORY  SECTION    Category  \\\n",
       "0  But the most painful was the huge reversal in ...        3    Business   \n",
       "1  How formidable is the opposition alliance amon...        0    Politics   \n",
       "2  Most Asian currencies were trading lower today...        3    Business   \n",
       "3  If you want to answer any question, click on ‘...        1  Technology   \n",
       "4  In global markets, gold prices edged up today ...        3    Business   \n",
       "\n",
       "                                       Text_cleaning  \n",
       "0  painful huge reversal fee income unheard among...  \n",
       "1  formidable opposition alliance among congress ...  \n",
       "2  asian currencies trading lower today south kor...  \n",
       "3  want answer question click answer clicking ans...  \n",
       "4  global markets gold prices edged today disappo...  "
      ]
     },
     "execution_count": 153,
     "metadata": {},
     "output_type": "execute_result"
    }
   ],
   "source": [
    "import nltk\n",
    "import re\n",
    "import string\n",
    "\n",
    "def clean_text(text):\n",
    "    text = text.lower()                                  # lower-case all characters\n",
    "    text =  re.sub(r'@\\S+', '',text)                     # remove twitter handles\n",
    "    text =  re.sub(r'http\\S+', '',text)                  # remove urls\n",
    "    text =  re.sub(r'pic.\\S+', '',text)\n",
    "    text =  re.sub(r\"[^a-zA-Z+']\", ' ',text)             # only keeps characters\n",
    "    text = re.sub(r'\\s+[a-zA-Z]\\s+', ' ', text+' ')      # keep words with length>1 only\n",
    "    text = \"\".join([i for i in text if i not in string.punctuation])\n",
    "    words = nltk.tokenize.word_tokenize(text)\n",
    "    stopwords = nltk.corpus.stopwords.words('english')   # remove stopwords\n",
    "    text = \" \".join([i for i in words if i not in stopwords and len(i)>2])\n",
    "    text= re.sub(\"\\s[\\s]+\", \" \",text).strip()            # remove repeated/leading/trailing spaces\n",
    "    return text\n",
    "\n",
    "train['Text_cleaning'] = train.STORY.apply(clean_text)\n",
    "train.head()"
   ]
  },
  {
   "cell_type": "code",
   "execution_count": 154,
   "metadata": {
    "pycharm": {
     "name": "#%%\n"
    }
   },
   "outputs": [
    {
     "name": "stdout",
     "output_type": "stream",
     "text": [
      "  (0, 7441)\t1\n",
      "  (0, 4930)\t1\n",
      "  (0, 8875)\t1\n",
      "  (0, 3886)\t2\n",
      "  (0, 5120)\t2\n",
      "  (0, 11141)\t1\n",
      "  (0, 434)\t1\n",
      "  (0, 8067)\t1\n",
      "  (0, 9312)\t1\n",
      "  (0, 5983)\t1\n",
      "  (0, 3569)\t1\n",
      "  (0, 6465)\t2\n",
      "  (0, 11832)\t1\n",
      "  (0, 934)\t1\n",
      "  (0, 10793)\t1\n",
      "  (0, 4510)\t1\n",
      "  (0, 3894)\t2\n",
      "  (0, 10184)\t1\n",
      "  (0, 6108)\t2\n",
      "  (0, 2666)\t2\n",
      "  (0, 7437)\t1\n",
      "  (0, 72)\t1\n",
      "  (0, 11214)\t2\n",
      "  (0, 1274)\t1\n",
      "  (0, 1292)\t1\n",
      "  :\t:\n",
      "  (998, 6566)\t1\n",
      "  (998, 10480)\t1\n",
      "  (998, 4790)\t1\n",
      "  (998, 10590)\t1\n",
      "  (998, 9754)\t2\n",
      "  (998, 5612)\t1\n",
      "  (998, 3422)\t2\n",
      "  (998, 1748)\t1\n",
      "  (998, 2010)\t1\n",
      "  (998, 15)\t1\n",
      "  (998, 2620)\t1\n",
      "  (998, 11500)\t1\n",
      "  (998, 10673)\t1\n",
      "  (998, 2627)\t1\n",
      "  (999, 3994)\t1\n",
      "  (999, 9559)\t1\n",
      "  (999, 8490)\t1\n",
      "  (999, 11622)\t1\n",
      "  (999, 9294)\t1\n",
      "  (999, 7781)\t1\n",
      "  (999, 8743)\t1\n",
      "  (999, 387)\t1\n",
      "  (999, 9752)\t1\n",
      "  (999, 3349)\t1\n",
      "  (999, 5651)\t1\n"
     ]
    }
   ],
   "source": [
    "from sklearn.feature_extraction.text import CountVectorizer\n",
    "\n",
    "vectorizer = CountVectorizer()\n",
    "data_vectorizer = vectorizer.fit_transform(train['Text_cleaning'])\n",
    "label = train['SECTION']\n",
    "print(data_vectorizer)"
   ]
  },
  {
   "cell_type": "code",
   "execution_count": 155,
   "metadata": {
    "pycharm": {
     "name": "#%%\n"
    }
   },
   "outputs": [],
   "source": [
    "from sklearn.model_selection import train_test_split\n",
    "X_train, X_test, y_train, y_test = train_test_split(data_vectorizer, label, test_size=0.2, random_state=6)\n",
    "my_Category =['Politics','Technology','Entertainment','Business']"
   ]
  },
  {
   "cell_type": "code",
   "execution_count": 156,
   "metadata": {
    "pycharm": {
     "name": "#%%\n"
    }
   },
   "outputs": [],
   "source": [
    "from sklearn.svm import SVC\n",
    "\n",
    "SVC_model = SVC()\n",
    "SVC_model.fit(X_train,y_train)\n",
    "SVC_pred = SVC_model.predict(X_test)"
   ]
  },
  {
   "cell_type": "code",
   "execution_count": 157,
   "metadata": {
    "pycharm": {
     "name": "#%%\n"
    }
   },
   "outputs": [
    {
     "name": "stdout",
     "output_type": "stream",
     "text": [
      "Показания прогноза относительно фактически верных меток\n",
      "87.0\n",
      "Матрица ошибок\n",
      "[[37  0  0  0]\n",
      " [ 6 71  3  6]\n",
      " [ 2  5 47  4]\n",
      " [ 0  0  0 19]]\n"
     ]
    }
   ],
   "source": [
    "from sklearn.metrics import confusion_matrix\n",
    "\n",
    "print(\"Показания прогноза относительно фактически верных меток\")\n",
    "print(SVC_model.score(X_test, y_test) * 100)\n",
    "print('Матрица ошибок')\n",
    "print(confusion_matrix(SVC_pred, y_test))\n"
   ]
  },
  {
   "cell_type": "code",
   "execution_count": null,
   "metadata": {},
   "outputs": [],
   "source": []
  },
  {
   "cell_type": "code",
   "execution_count": null,
   "metadata": {},
   "outputs": [],
   "source": []
  }
 ],
 "metadata": {
  "kernelspec": {
   "display_name": "Python 3 (ipykernel)",
   "language": "python",
   "name": "python3"
  },
  "language_info": {
   "codemirror_mode": {
    "name": "ipython",
    "version": 3
   },
   "file_extension": ".py",
   "mimetype": "text/x-python",
   "name": "python",
   "nbconvert_exporter": "python",
   "pygments_lexer": "ipython3",
   "version": "3.9.5"
  }
 },
 "nbformat": 4,
 "nbformat_minor": 1
}